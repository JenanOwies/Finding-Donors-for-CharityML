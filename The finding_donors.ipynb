Intro to Machine Learning with TensorFlow nanodegree
Finding Donors for CharityML project

Exploring the Data
Run the code cell below to load necessary Python libraries and load the census data.
Note: The last column from this dataset, 'income', will be target label (whether an individual makes more than, or at most, $50,000 annually). All other columns are features about each individual in the census database.

